{
  "cells": [
    {
      "cell_type": "markdown",
      "metadata": {
        "id": "2cCAgw40DFk2"
      },
      "source": [
        "# Convolutional Neural Network (CNN) in PyTorch\n",
        "\n",
        "This neural network will be trained on the Mnist dataset using the CNN architecture. More info about CNN can be found [here](https://medium.com/@draj0718/convolutional-neural-networks-cnn-architectures-explained-716fb197b243). \n",
        "\n",
        "**We start by importing the key libraries**"
      ]
    },
    {
      "cell_type": "code",
      "execution_count": null,
      "metadata": {},
      "outputs": [],
      "source": [
        "# importing the key libraries\n",
        "import torch\n",
        "import cv2 as cv\n",
        "import numpy as np\n",
        "from PIL import Image\n",
        "from torch import nn,optim\n",
        "from torchvision import datasets,transforms\n",
        "from torchvision.transforms import v2\n",
        "from torch.utils.data import dataloader\n",
        "import matplotlib.pyplot as plt\n",
        "from tqdm import tqdm"
      ]
    },
    {
      "cell_type": "markdown",
      "metadata": {},
      "source": [
        "### Downloading the Mnist Dataset\n",
        "\n",
        "We will use the **torchvision** module to load the Mnist training and testing dataset."
      ]
    },
    {
      "cell_type": "code",
      "execution_count": null,
      "metadata": {},
      "outputs": [],
      "source": [
        "# setting the device to cuda to use the GPU if available\n",
        "DEVICE = torch.device('cuda' if torch.cuda.is_available() else 'cpu')\n",
        "\n",
        "# we download the dataset and transform it to a tensor data type\n",
        "my_transform = transforms.Compose([transforms.ToTensor()])\n",
        "\n",
        "training_set = datasets.MNIST(root=\"data\",train=True,transform=my_transform,download=True)\n",
        "testing_set = datasets.MNIST(root=\"data\",train=False,transform=my_transform,download=True)"
      ]
    },
    {
      "cell_type": "markdown",
      "metadata": {},
      "source": [
        "### Constructing our CNN class\n",
        "\n",
        "We will initialize all the layers using the **nn** module in PyTorch. We will also create a method for training and testing our network."
      ]
    },
    {
      "cell_type": "code",
      "execution_count": null,
      "metadata": {
        "colab": {
          "base_uri": "https://localhost:8080/"
        },
        "id": "gxl1am1WC6hA",
        "outputId": "c5c360cb-f997-4127-c76b-2e4c1c3e143a"
      },
      "outputs": [
        {
          "name": "stdout",
          "output_type": "stream",
          "text": [
            "Downloading http://yann.lecun.com/exdb/mnist/train-images-idx3-ubyte.gz\n",
            "Downloading http://yann.lecun.com/exdb/mnist/train-images-idx3-ubyte.gz to data/MNIST/raw/train-images-idx3-ubyte.gz\n"
          ]
        },
        {
          "name": "stderr",
          "output_type": "stream",
          "text": [
            "100%|██████████| 9912422/9912422 [00:00<00:00, 141245834.02it/s]\n"
          ]
        },
        {
          "name": "stdout",
          "output_type": "stream",
          "text": [
            "Extracting data/MNIST/raw/train-images-idx3-ubyte.gz to data/MNIST/raw\n",
            "\n",
            "Downloading http://yann.lecun.com/exdb/mnist/train-labels-idx1-ubyte.gz\n",
            "Downloading http://yann.lecun.com/exdb/mnist/train-labels-idx1-ubyte.gz to data/MNIST/raw/train-labels-idx1-ubyte.gz\n"
          ]
        },
        {
          "name": "stderr",
          "output_type": "stream",
          "text": [
            "100%|██████████| 28881/28881 [00:00<00:00, 28529367.36it/s]\n"
          ]
        },
        {
          "name": "stdout",
          "output_type": "stream",
          "text": [
            "Extracting data/MNIST/raw/train-labels-idx1-ubyte.gz to data/MNIST/raw\n",
            "\n",
            "Downloading http://yann.lecun.com/exdb/mnist/t10k-images-idx3-ubyte.gz\n",
            "Downloading http://yann.lecun.com/exdb/mnist/t10k-images-idx3-ubyte.gz to data/MNIST/raw/t10k-images-idx3-ubyte.gz\n"
          ]
        },
        {
          "name": "stderr",
          "output_type": "stream",
          "text": [
            "100%|██████████| 1648877/1648877 [00:00<00:00, 44474041.80it/s]\n"
          ]
        },
        {
          "name": "stdout",
          "output_type": "stream",
          "text": [
            "Extracting data/MNIST/raw/t10k-images-idx3-ubyte.gz to data/MNIST/raw\n",
            "\n",
            "Downloading http://yann.lecun.com/exdb/mnist/t10k-labels-idx1-ubyte.gz\n",
            "Downloading http://yann.lecun.com/exdb/mnist/t10k-labels-idx1-ubyte.gz to data/MNIST/raw/t10k-labels-idx1-ubyte.gz\n"
          ]
        },
        {
          "name": "stderr",
          "output_type": "stream",
          "text": [
            "100%|██████████| 4542/4542 [00:00<00:00, 9496774.06it/s]\n"
          ]
        },
        {
          "name": "stdout",
          "output_type": "stream",
          "text": [
            "Extracting data/MNIST/raw/t10k-labels-idx1-ubyte.gz to data/MNIST/raw\n",
            "\n"
          ]
        }
      ],
      "source": [
        "# constructing our CNN class\n",
        "class PyTeen(nn.Module):\n",
        "  def __init__(self):\n",
        "    super().__init__()\n",
        "    self.layers = nn.Sequential(    # inititalizing the layers of our CNN model\n",
        "        nn.Conv2d(1,6,5,padding=2),\n",
        "        nn.ReLU(),\n",
        "        nn.MaxPool2d(2,stride=2),\n",
        "\n",
        "        nn.Conv2d(6,16,5,padding=0),\n",
        "        nn.ReLU(),\n",
        "        nn.MaxPool2d(2,stride=2),\n",
        "\n",
        "        nn.Flatten(),\n",
        "        nn.Linear(400,120),\n",
        "        nn.Linear(120,84),\n",
        "        nn.Linear(84,10),\n",
        "\n",
        "    )\n",
        "    self.loss = nn.CrossEntropyLoss()\n",
        "    self.optimizer = optim.Adam(self.parameters())\n",
        "\n",
        "  def forward(self,input):\n",
        "    return(self.layers(input))\n",
        "\n",
        "  def predict(self,input):\n",
        "    with torch.no_grad():\n",
        "      pred = self.forward(input)\n",
        "      return(torch.argmax(pred,axis=-1))\n",
        "\n",
        "  def train(self,input,label):\n",
        "    self.optimizer.zero_grad()\n",
        "    pred = self.forward(input)\n",
        "    loss = self.loss(pred,label)\n",
        "    loss.backward()\n",
        "    self.optimizer.step()\n",
        "    return(loss.item())\n"
      ]
    },
    {
      "cell_type": "markdown",
      "metadata": {
        "id": "c-gLYyySJwGo"
      },
      "source": [
        "### Training the network\n",
        "\n",
        "We will use the train method defined above to train the network. We will also increase the batch size during training which have been proven to improve accuracy and training speed. \n",
        "\n",
        "More information can be found in the paper: [Don’t decay the learning rate increase the batch size](https://arxiv.org/pdf/1711.00489.pdf)"
      ]
    },
    {
      "cell_type": "code",
      "execution_count": null,
      "metadata": {
        "colab": {
          "base_uri": "https://localhost:8080/"
        },
        "id": "gk_oBa47JulG",
        "outputId": "5d7859e3-ad4e-4278-8217-c52c6d6c7523"
      },
      "outputs": [
        {
          "name": "stderr",
          "output_type": "stream",
          "text": [
            "100%|██████████| 3750/3750 [01:09<00:00, 54.18it/s]\n"
          ]
        },
        {
          "name": "stdout",
          "output_type": "stream",
          "text": [
            "EPOCH: 1 :  1656.5260076865088\n"
          ]
        },
        {
          "name": "stderr",
          "output_type": "stream",
          "text": [
            "100%|██████████| 3750/3750 [01:05<00:00, 57.45it/s]\n"
          ]
        },
        {
          "name": "stdout",
          "output_type": "stream",
          "text": [
            "EPOCH: 2 :  859.9851211777423\n"
          ]
        },
        {
          "name": "stderr",
          "output_type": "stream",
          "text": [
            "100%|██████████| 3750/3750 [01:05<00:00, 56.98it/s]\n"
          ]
        },
        {
          "name": "stdout",
          "output_type": "stream",
          "text": [
            "EPOCH: 3 :  752.7621782300994\n"
          ]
        },
        {
          "name": "stderr",
          "output_type": "stream",
          "text": [
            "100%|██████████| 3750/3750 [01:06<00:00, 56.02it/s]\n"
          ]
        },
        {
          "name": "stdout",
          "output_type": "stream",
          "text": [
            "EPOCH: 4 :  690.1360576909501\n"
          ]
        },
        {
          "name": "stderr",
          "output_type": "stream",
          "text": [
            "100%|██████████| 3750/3750 [01:07<00:00, 55.57it/s]\n"
          ]
        },
        {
          "name": "stdout",
          "output_type": "stream",
          "text": [
            "EPOCH: 5 :  661.1853302748641\n"
          ]
        },
        {
          "name": "stderr",
          "output_type": "stream",
          "text": [
            "100%|██████████| 3750/3750 [01:07<00:00, 55.53it/s]\n"
          ]
        },
        {
          "name": "stdout",
          "output_type": "stream",
          "text": [
            "EPOCH: 6 :  626.3621089668013\n"
          ]
        },
        {
          "name": "stderr",
          "output_type": "stream",
          "text": [
            "100%|██████████| 3750/3750 [01:08<00:00, 54.82it/s]\n"
          ]
        },
        {
          "name": "stdout",
          "output_type": "stream",
          "text": [
            "EPOCH: 7 :  610.7814251285745\n"
          ]
        },
        {
          "name": "stderr",
          "output_type": "stream",
          "text": [
            "100%|██████████| 3750/3750 [01:08<00:00, 54.71it/s]\n"
          ]
        },
        {
          "name": "stdout",
          "output_type": "stream",
          "text": [
            "EPOCH: 8 :  595.1937870879192\n"
          ]
        },
        {
          "name": "stderr",
          "output_type": "stream",
          "text": [
            "100%|██████████| 3750/3750 [01:09<00:00, 53.58it/s]\n"
          ]
        },
        {
          "name": "stdout",
          "output_type": "stream",
          "text": [
            "EPOCH: 9 :  587.08782794117\n"
          ]
        },
        {
          "name": "stderr",
          "output_type": "stream",
          "text": [
            "100%|██████████| 3750/3750 [01:08<00:00, 54.60it/s]\n"
          ]
        },
        {
          "name": "stdout",
          "output_type": "stream",
          "text": [
            "EPOCH: 10 :  574.7119326794636\n"
          ]
        },
        {
          "name": "stderr",
          "output_type": "stream",
          "text": [
            "100%|██████████| 3750/3750 [01:07<00:00, 55.40it/s]\n"
          ]
        },
        {
          "name": "stdout",
          "output_type": "stream",
          "text": [
            "EPOCH: 11 :  550.999776529381\n"
          ]
        },
        {
          "name": "stderr",
          "output_type": "stream",
          "text": [
            "100%|██████████| 3750/3750 [01:09<00:00, 53.99it/s]\n"
          ]
        },
        {
          "name": "stdout",
          "output_type": "stream",
          "text": [
            "EPOCH: 12 :  546.6498277119827\n"
          ]
        },
        {
          "name": "stderr",
          "output_type": "stream",
          "text": [
            "100%|██████████| 3750/3750 [01:09<00:00, 53.95it/s]\n"
          ]
        },
        {
          "name": "stdout",
          "output_type": "stream",
          "text": [
            "EPOCH: 13 :  538.414248032379\n"
          ]
        },
        {
          "name": "stderr",
          "output_type": "stream",
          "text": [
            "100%|██████████| 3750/3750 [01:10<00:00, 52.88it/s]\n"
          ]
        },
        {
          "name": "stdout",
          "output_type": "stream",
          "text": [
            "EPOCH: 14 :  546.385848196107\n"
          ]
        },
        {
          "name": "stderr",
          "output_type": "stream",
          "text": [
            "100%|██████████| 3750/3750 [01:10<00:00, 53.50it/s]\n"
          ]
        },
        {
          "name": "stdout",
          "output_type": "stream",
          "text": [
            "EPOCH: 15 :  536.0006253729807\n"
          ]
        },
        {
          "name": "stderr",
          "output_type": "stream",
          "text": [
            "100%|██████████| 1875/1875 [01:00<00:00, 31.05it/s]\n"
          ]
        },
        {
          "name": "stdout",
          "output_type": "stream",
          "text": [
            "EPOCH: 16 :  240.26686949143186\n"
          ]
        },
        {
          "name": "stderr",
          "output_type": "stream",
          "text": [
            "100%|██████████| 1875/1875 [01:06<00:00, 28.06it/s]\n"
          ]
        },
        {
          "name": "stdout",
          "output_type": "stream",
          "text": [
            "EPOCH: 17 :  242.10855500912294\n"
          ]
        },
        {
          "name": "stderr",
          "output_type": "stream",
          "text": [
            "100%|██████████| 1875/1875 [01:01<00:00, 30.57it/s]\n"
          ]
        },
        {
          "name": "stdout",
          "output_type": "stream",
          "text": [
            "EPOCH: 18 :  237.47877365374006\n"
          ]
        },
        {
          "name": "stderr",
          "output_type": "stream",
          "text": [
            "100%|██████████| 1875/1875 [01:01<00:00, 30.31it/s]\n"
          ]
        },
        {
          "name": "stdout",
          "output_type": "stream",
          "text": [
            "EPOCH: 19 :  239.77386128739454\n"
          ]
        },
        {
          "name": "stderr",
          "output_type": "stream",
          "text": [
            "100%|██████████| 1875/1875 [01:01<00:00, 30.63it/s]\n"
          ]
        },
        {
          "name": "stdout",
          "output_type": "stream",
          "text": [
            "EPOCH: 20 :  240.2110546482727\n"
          ]
        },
        {
          "name": "stderr",
          "output_type": "stream",
          "text": [
            "100%|██████████| 469/469 [00:55<00:00,  8.46it/s]\n"
          ]
        },
        {
          "name": "stdout",
          "output_type": "stream",
          "text": [
            "EPOCH: 21 :  52.891840908676386\n"
          ]
        },
        {
          "name": "stderr",
          "output_type": "stream",
          "text": [
            "100%|██████████| 469/469 [00:54<00:00,  8.55it/s]\n"
          ]
        },
        {
          "name": "stdout",
          "output_type": "stream",
          "text": [
            "EPOCH: 22 :  52.74673435278237\n"
          ]
        },
        {
          "name": "stderr",
          "output_type": "stream",
          "text": [
            "100%|██████████| 469/469 [00:54<00:00,  8.56it/s]\n"
          ]
        },
        {
          "name": "stdout",
          "output_type": "stream",
          "text": [
            "EPOCH: 23 :  50.571865409612656\n"
          ]
        },
        {
          "name": "stderr",
          "output_type": "stream",
          "text": [
            "100%|██████████| 469/469 [00:56<00:00,  8.29it/s]\n"
          ]
        },
        {
          "name": "stdout",
          "output_type": "stream",
          "text": [
            "EPOCH: 24 :  51.49283261690289\n"
          ]
        },
        {
          "name": "stderr",
          "output_type": "stream",
          "text": [
            "100%|██████████| 469/469 [00:55<00:00,  8.45it/s]\n"
          ]
        },
        {
          "name": "stdout",
          "output_type": "stream",
          "text": [
            "EPOCH: 25 :  51.59818361699581\n"
          ]
        },
        {
          "name": "stderr",
          "output_type": "stream",
          "text": [
            "100%|██████████| 469/469 [00:55<00:00,  8.49it/s]\n"
          ]
        },
        {
          "name": "stdout",
          "output_type": "stream",
          "text": [
            "EPOCH: 26 :  53.339092034846544\n"
          ]
        },
        {
          "name": "stderr",
          "output_type": "stream",
          "text": [
            "100%|██████████| 469/469 [00:55<00:00,  8.47it/s]\n"
          ]
        },
        {
          "name": "stdout",
          "output_type": "stream",
          "text": [
            "EPOCH: 27 :  51.576456340029836\n"
          ]
        },
        {
          "name": "stderr",
          "output_type": "stream",
          "text": [
            "100%|██████████| 469/469 [00:55<00:00,  8.48it/s]\n"
          ]
        },
        {
          "name": "stdout",
          "output_type": "stream",
          "text": [
            "EPOCH: 28 :  51.32389880158007\n"
          ]
        },
        {
          "name": "stderr",
          "output_type": "stream",
          "text": [
            "100%|██████████| 469/469 [00:55<00:00,  8.46it/s]\n"
          ]
        },
        {
          "name": "stdout",
          "output_type": "stream",
          "text": [
            "EPOCH: 29 :  51.32833299227059\n"
          ]
        },
        {
          "name": "stderr",
          "output_type": "stream",
          "text": [
            "100%|██████████| 469/469 [00:54<00:00,  8.55it/s]"
          ]
        },
        {
          "name": "stdout",
          "output_type": "stream",
          "text": [
            "EPOCH: 30 :  51.07730234414339\n"
          ]
        },
        {
          "name": "stderr",
          "output_type": "stream",
          "text": [
            "\n"
          ]
        }
      ],
      "source": [
        "#initializing our network\n",
        "network = PyTeen()\n",
        "network.to(torch.device(DEVICE))\n",
        "\n",
        "# training loop\n",
        "EPOCHS = 30\n",
        "for i in range(EPOCHS):\n",
        "  total_loss = 0\n",
        "  # changing batch size during training\n",
        "  if i < 15:\n",
        "    BATCH_SIZE = 16\n",
        "  elif i >=15 and i <20:\n",
        "    BATCH_SIZE = 32\n",
        "  else:\n",
        "    BATCH_SIZE = 128\n",
        "\n",
        "  training_loader = dataloader.DataLoader(training_set,batch_size=BATCH_SIZE, shuffle=True)\n",
        "  for input,label in tqdm(training_loader):\n",
        "    input = input.to(torch.device(DEVICE))\n",
        "    label = label.to(torch.device(DEVICE))\n",
        "    loss = network.train(input,label)\n",
        "    total_loss += loss\n",
        "  print(\"EPOCH:\", i+1,\": \",total_loss)\n"
      ]
    },
    {
      "cell_type": "markdown",
      "metadata": {
        "id": "Pw41XxiEvVPQ"
      },
      "source": [
        "### Evaluating the network"
      ]
    },
    {
      "cell_type": "code",
      "execution_count": null,
      "metadata": {
        "colab": {
          "base_uri": "https://localhost:8080/"
        },
        "id": "d2XSLbGlvip3",
        "outputId": "804032f5-87c8-45b1-96e2-decd2d2eeade"
      },
      "outputs": [],
      "source": [
        "# setting up our training and testing data\n",
        "BATCH_SIZE = 32\n",
        "testing_loader = dataloader.DataLoader(testing_set,batch_size=BATCH_SIZE,shuffle=False)\n",
        "\n",
        "\n",
        "# Evaluating our CNN model\n",
        "correct_pred = 0\n",
        "\n",
        "for input,label in tqdm(testing_loader):\n",
        "  input = input.to(torch.device(DEVICE))\n",
        "  label = label.to(torch.device(DEVICE))\n",
        "  pred = network.predict(input)\n",
        "  # finding accuracy of our network\n",
        "  for i in range(len(pred)):\n",
        "    if pred[i] == label[i]:\n",
        "      correct_pred += 1\n",
        "\n",
        "print('\\\\n',correct_pred/(len(testing_loader)*BATCH_SIZE))"
      ]
    },
    {
      "cell_type": "markdown",
      "metadata": {},
      "source": [
        "We also may want to save the network if we get a good accuracy score. I obtained an accuracy score of 98.82% which was satisfactory. To improve the accuracy, we can look into implementing a better CNN architecture like ResNet."
      ]
    },
    {
      "cell_type": "code",
      "execution_count": null,
      "metadata": {
        "id": "iCxCsJHkSuc7"
      },
      "outputs": [],
      "source": [
        "# saving our weights if we get a good accuracy\n",
        "torch.save(network.state_dict(),\"pyTeenConvotilt9882.pth\")"
      ]
    },
    {
      "cell_type": "markdown",
      "metadata": {
        "id": "cMi5ZZNMKQMq"
      },
      "source": [
        "### Creating our own numbers to test the network\n",
        "\n",
        "- We can use MSPaint\n",
        "- Save result as jpg (280 x 280)\n",
        "- Using opencv-python library to load the image\n",
        "- Display the image using plt.imshow()\n"
      ]
    },
    {
      "cell_type": "code",
      "execution_count": null,
      "metadata": {
        "colab": {
          "base_uri": "https://localhost:8080/",
          "height": 447
        },
        "id": "HIoWRq-QK2c8",
        "outputId": "cdaad45f-24fd-4988-dc6f-d7c530e2a41f"
      },
      "outputs": [
        {
          "name": "stdout",
          "output_type": "stream",
          "text": [
            "tensor([1])\n"
          ]
        },
        {
          "data": {
            "image/png": "[encoded data removed]",
            "text/plain": [
              "<Figure size 640x480 with 1 Axes>"
            ]
          },
          "metadata": {},
          "output_type": "display_data"
        }
      ],
      "source": [
        "# re-initializing our network\n",
        "network = PyTeen()\n",
        "network.to(torch.device(DEVICE))\n",
        "network.load_state_dict(torch.load(\"/content/pyTeenConvo9882.pth\"))\n",
        "\n",
        "# img = cv.imread(\"canvas.jpg\",cv.IMREAD_GRAYSCALE)\n",
        "\n",
        "# scaling = cv.resize(img,(28,28))\n",
        "# my_img_processed = cv.bitwise_not(scaling)\n",
        "# print(type(my_img_processed))\n",
        "# plt.imshow(my_img_processed)\n",
        "# print(my_img_processed.shape, type(my_img_processed))\n",
        "\n",
        "# cv.imwrite('new.jpg',my_img_processed)\n",
        "\n",
        "new_img = Image.open(\"new.png\")\n",
        "plt.imshow(new_img)\n",
        "my_img_transform = transforms.Compose([transforms.Resize((28,28)),transforms.ToTensor()])\n",
        "\n",
        "input_img = my_transform(new_img).unsqueeze(0) # converting it to a batch\n",
        "\n",
        "print(network.predict(input_img))\n"
      ]
    }
  ],
  "metadata": {
    "colab": {
      "provenance": []
    },
    "kernelspec": {
      "display_name": "Python 3",
      "name": "python3"
    },
    "language_info": {
      "name": "python"
    }
  },
  "nbformat": 4,
  "nbformat_minor": 0
}
